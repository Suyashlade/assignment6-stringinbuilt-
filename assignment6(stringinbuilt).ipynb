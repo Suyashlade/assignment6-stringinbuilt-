{
 "cells": [
  {
   "cell_type": "code",
   "execution_count": 1,
   "id": "0b0e96af-fdfb-4c85-bca8-d44a9ffffad5",
   "metadata": {},
   "outputs": [
    {
     "name": "stdout",
     "output_type": "stream",
     "text": [
      "Length of the string: 13\n"
     ]
    }
   ],
   "source": [
    "'''The len() function in Python is used to determine the length of a sequence or collection, such as a string, list, tuple, or dictionary. \n",
    "It returns the number of elements in the given sequence or the number of characters in the string.\n",
    "When used with strings, the len() function returns the number of characters in the string, including whitespace characters.'''\n",
    "string = \"Hello, World!\"\n",
    "length = len(string)\n",
    "print(\"Length of the string:\", length)"
   ]
  },
  {
   "cell_type": "code",
   "execution_count": 2,
   "id": "23a5f44e-4cfe-4e10-96ea-ffbdc2995d3c",
   "metadata": {},
   "outputs": [
    {
     "name": "stdout",
     "output_type": "stream",
     "text": [
      "Hello World\n"
     ]
    }
   ],
   "source": [
    "#In Python, you can concatenate two or more strings using the + operator or by using the str.join()\n",
    "#method1\n",
    "string1 = \"Hello\"\n",
    "string2 = \"World\"\n",
    "concatenated_string = string1 + \" \" + string2\n",
    "print(concatenated_string)"
   ]
  },
  {
   "cell_type": "code",
   "execution_count": 3,
   "id": "a9b15ec3-7c10-4a3a-88f8-3376e65234da",
   "metadata": {},
   "outputs": [
    {
     "name": "stdout",
     "output_type": "stream",
     "text": [
      "Hello World\n"
     ]
    }
   ],
   "source": [
    "#method2\n",
    "strings = [\"Hello\", \"World\"]\n",
    "concatenated_string = \" \".join(strings)\n",
    "print(concatenated_string)"
   ]
  },
  {
   "cell_type": "code",
   "execution_count": 4,
   "id": "6bf51644-619d-40e6-bb4c-089c2fab33de",
   "metadata": {},
   "outputs": [
    {
     "name": "stdout",
     "output_type": "stream",
     "text": [
      "ello\n",
      "World!\n",
      "Hello\n",
      "orld!\n"
     ]
    }
   ],
   "source": [
    "'''String slicing in Python refers to extracting a portion of a string by specifying a range of indices. \n",
    "It allows you to access a substring from a given string. The syntax for string slicing is \n",
    "string[start_index:end_index], where start_index is the index of the first character to include in the substring, and\n",
    "'end_index' is the index of the character just after the last character to include in the substring.'''\n",
    "string = \"Hello, World!\"\n",
    "substring = string[1:5]\n",
    "print(substring)  \n",
    "\n",
    "substring = string[7:]\n",
    "print(substring) \n",
    "\n",
    "substring = string[:5]\n",
    "print(substring)  \n",
    "\n",
    "substring = string[-5:]\n",
    "print(substring)  \n"
   ]
  },
  {
   "cell_type": "code",
   "execution_count": 7,
   "id": "0b37b0ee-6ddb-45ba-8400-a291404a3981",
   "metadata": {},
   "outputs": [
    {
     "name": "stdout",
     "output_type": "stream",
     "text": [
      "HELLO, WORLD!\n"
     ]
    }
   ],
   "source": [
    "string = \"hello, world!\"\n",
    "uppercase_string = string.upper()\n",
    "print(uppercase_string)"
   ]
  },
  {
   "cell_type": "code",
   "execution_count": 10,
   "id": "2c94ddac-db28-471e-b85e-47b716d65c2d",
   "metadata": {},
   "outputs": [
    {
     "name": "stdout",
     "output_type": "stream",
     "text": [
      "hello, world!\n"
     ]
    }
   ],
   "source": [
    "string = \"HELLO, WORLD!\"\n",
    "lowercase_string = string.lower()\n",
    "print(lowercase_string)  \n"
   ]
  },
  {
   "cell_type": "code",
   "execution_count": 11,
   "id": "b9362a3f-c48c-4b05-b997-a6744ddc28ed",
   "metadata": {},
   "outputs": [
    {
     "name": "stdout",
     "output_type": "stream",
     "text": [
      "['apple', 'banana', 'orange']\n"
     ]
    }
   ],
   "source": [
    "'''In Python, the split() method is used to split a string into a list of substrings based on a specified delimiter. \n",
    "By default, the delimiter is whitespace (space, tab, or newline). However, you can also specify a custom delimiter.'''\n",
    "string = \"apple,banana,orange\"\n",
    "fruits = string.split(\",\")\n",
    "print(fruits)  \n"
   ]
  },
  {
   "cell_type": "code",
   "execution_count": 12,
   "id": "d48ac622-2b00-43b2-9106-8ac7fe4137dc",
   "metadata": {},
   "outputs": [
    {
     "name": "stdout",
     "output_type": "stream",
     "text": [
      "['Hello', 'World!', 'How', 'are', 'you?']\n"
     ]
    }
   ],
   "source": [
    "sentence = \"Hello World! How are you?\"\n",
    "words = sentence.split()\n",
    "print(words) "
   ]
  },
  {
   "cell_type": "code",
   "execution_count": null,
   "id": "fd781043-85d2-4984-a565-b16a99d47e5e",
   "metadata": {},
   "outputs": [],
   "source": []
  }
 ],
 "metadata": {
  "kernelspec": {
   "display_name": "Python 3 (ipykernel)",
   "language": "python",
   "name": "python3"
  },
  "language_info": {
   "codemirror_mode": {
    "name": "ipython",
    "version": 3
   },
   "file_extension": ".py",
   "mimetype": "text/x-python",
   "name": "python",
   "nbconvert_exporter": "python",
   "pygments_lexer": "ipython3",
   "version": "3.11.4"
  }
 },
 "nbformat": 4,
 "nbformat_minor": 5
}
